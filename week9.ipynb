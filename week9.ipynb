{
 "cells": [
  {
   "cell_type": "code",
   "execution_count": 8,
   "id": "70aa0d4d",
   "metadata": {},
   "outputs": [
    {
     "name": "stdout",
     "output_type": "stream",
     "text": [
      "typing x value : 2\n",
      "25\n"
     ]
    }
   ],
   "source": [
    "#실습 1 수치계산(이차방정식)\n",
    "\n",
    "x = int(input(\"typing x value : \"))\n",
    "y = 3 * x ** 2 + 5 * x + 3\n",
    "print(y)"
   ]
  },
  {
   "cell_type": "code",
   "execution_count": 15,
   "id": "5072f819",
   "metadata": {},
   "outputs": [
    {
     "name": "stdout",
     "output_type": "stream",
     "text": [
      "typing radius : 3\n",
      "out = 18.84 area = 28.26\n"
     ]
    }
   ],
   "source": [
    "#실습 1 수치계산(원의 둘레와 넓이)\n",
    "\n",
    "pi = 3.14\n",
    "radius = int(input(\"typing radius : \"))\n",
    "out = 2 * pi * radius\n",
    "area = pi * radius ** 2\n",
    "print(\"out =\",out,\"area =\",area)"
   ]
  }
 ],
 "metadata": {
  "kernelspec": {
   "display_name": "Python 3",
   "language": "python",
   "name": "python3"
  },
  "language_info": {
   "codemirror_mode": {
    "name": "ipython",
    "version": 3
   },
   "file_extension": ".py",
   "mimetype": "text/x-python",
   "name": "python",
   "nbconvert_exporter": "python",
   "pygments_lexer": "ipython3",
   "version": "3.9.4"
  }
 },
 "nbformat": 4,
 "nbformat_minor": 5
}
